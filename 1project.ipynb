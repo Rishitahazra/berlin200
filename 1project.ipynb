{
 "cells": [
  {
   "cell_type": "code",
   "execution_count": 127,
   "metadata": {},
   "outputs": [],
   "source": [
    "import requests\n",
    "from utils import get_gitacs_token # for access token"
   ]
  },
  {
   "cell_type": "code",
   "execution_count": 135,
   "metadata": {},
   "outputs": [],
   "source": [
    "token = get_gitacs_token()\n",
    "headers = {'Authorization': f'token {token}'}\n",
    "\n",
    "url = 'https://api.github.com/search/users'\n",
    "params = {\n",
    "    'q': 'location:Berlin followers:>200',\n",
    "    'per_page': 100,\n",
    "    'sort': 'followers',\n",
    "    'order': 'desc'\n",
    "}"
   ]
  },
  {
   "cell_type": "code",
   "execution_count": 136,
   "metadata": {},
   "outputs": [],
   "source": [
    "all_users = []\n",
    "\n",
    "while True:\n",
    "    response = requests.get(url, headers=headers, params=params)\n",
    "    users = response.json()['items']\n",
    "    all_users.extend(users)\n",
    "\n",
    "    # Check if there is a 'next' page\n",
    "    if 'next' in response.links:\n",
    "        url = response.links['next']['url']  \n",
    "    else:\n",
    "        break"
   ]
  },
  {
   "cell_type": "code",
   "execution_count": 137,
   "metadata": {},
   "outputs": [
    {
     "data": {
      "text/plain": [
       "603"
      ]
     },
     "execution_count": 137,
     "metadata": {},
     "output_type": "execute_result"
    }
   ],
   "source": [
    "len(all_users)"
   ]
  },
  {
   "cell_type": "code",
   "execution_count": 131,
   "metadata": {},
   "outputs": [
    {
     "name": "stderr",
     "output_type": "stream",
     "text": [
      "100%|██████████| 610/610 [03:41<00:00,  2.75it/s]\n"
     ]
    }
   ],
   "source": [
    "# create users data\n",
    "from tqdm import tqdm\n",
    "# import time\n",
    "list_user = []\n",
    "# cnt = 0\n",
    "for ul in tqdm(all_users):\n",
    "    # cnt += 1\n",
    "    # print(f\"Iteration {cnt}\")\n",
    "    \n",
    "    # # Wait for 1 minute after every 10th iteration\n",
    "    # if cnt % 60 == 0:\n",
    "    #     print(\"Waiting for 1 minute\")\n",
    "    #     time.sleep(60)\n",
    "\n",
    "    lop_resp = requests.get(ul['url'], headers=headers )\n",
    "    user_json = lop_resp.json() \n",
    "\n",
    "    # clean up company name\n",
    "    if user_json[\"company\"]:\n",
    "        company = user_json[\"company\"].strip().lstrip('@').upper()\n",
    "    else: company = \"\"     \n",
    "\n",
    "    # create user data list for each entry\n",
    "    list_user.append({'login': user_json['login'], 'name': user_json['name'], 'company': company,\n",
    "                      'location': user_json['location'], 'email':user_json['email'], \n",
    "                      'hireable': user_json['hireable'], 'bio': user_json['bio'], 'public_repos':user_json['public_repos'], \n",
    "                      'followers':user_json['followers'], 'following':user_json['following'], 'created_at':user_json['created_at']})\n",
    "\n"
   ]
  },
  {
   "cell_type": "code",
   "execution_count": 132,
   "metadata": {},
   "outputs": [],
   "source": [
    "# create user data frame\n",
    "import pandas as pd\n",
    "\n",
    "df_user_data = pd.DataFrame(list_user)\n",
    "\n",
    "# convert to boolean\n",
    "df_user_data['hireable'] = df_user_data['hireable'].astype(bool) "
   ]
  },
  {
   "cell_type": "code",
   "execution_count": 133,
   "metadata": {},
   "outputs": [
    {
     "name": "stdout",
     "output_type": "stream",
     "text": [
      "<class 'pandas.core.frame.DataFrame'>\n",
      "RangeIndex: 610 entries, 0 to 609\n",
      "Data columns (total 11 columns):\n",
      " #   Column        Non-Null Count  Dtype \n",
      "---  ------        --------------  ----- \n",
      " 0   login         610 non-null    object\n",
      " 1   name          600 non-null    object\n",
      " 2   company       610 non-null    object\n",
      " 3   location      610 non-null    object\n",
      " 4   email         329 non-null    object\n",
      " 5   hireable      610 non-null    bool  \n",
      " 6   bio           440 non-null    object\n",
      " 7   public_repos  610 non-null    int64 \n",
      " 8   followers     610 non-null    int64 \n",
      " 9   following     610 non-null    int64 \n",
      " 10  created_at    610 non-null    object\n",
      "dtypes: bool(1), int64(3), object(7)\n",
      "memory usage: 48.4+ KB\n"
     ]
    }
   ],
   "source": [
    "df_user_data.info()"
   ]
  },
  {
   "cell_type": "code",
   "execution_count": 134,
   "metadata": {},
   "outputs": [],
   "source": [
    "# write as csv\n",
    "df_user_data.to_csv('df_user_data.csv',index=False)"
   ]
  },
  {
   "cell_type": "code",
   "execution_count": 53,
   "metadata": {},
   "outputs": [],
   "source": [
    "# create repository data\n",
    "\n",
    "# get repositories functions\n",
    "def get_repos(repos_url):\n",
    "    list_repos = []\n",
    "    page = 1\n",
    "    while True:\n",
    "        url_rep = f\"{repos_url}?sort=pushed&direction=desc&page={page}&per_page=100\"\n",
    "        response = requests.get(url_rep, headers=headers)\n",
    "        json_rep = response.json()\n",
    "        if json_rep:\n",
    "            list_repos.extend(json_rep)\n",
    "            if len(json_rep) < 100:\n",
    "                break\n",
    "            page += 1\n",
    "        else:\n",
    "            break\n",
    "    return list_repos\n"
   ]
  },
  {
   "cell_type": "code",
   "execution_count": 112,
   "metadata": {},
   "outputs": [
    {
     "data": {
      "text/plain": [
       "20405"
      ]
     },
     "execution_count": 112,
     "metadata": {},
     "output_type": "execute_result"
    }
   ],
   "source": [
    "len(list_repo_data)"
   ]
  },
  {
   "cell_type": "code",
   "execution_count": 109,
   "metadata": {},
   "outputs": [
    {
     "name": "stderr",
     "output_type": "stream",
     "text": [
      "100%|██████████| 218/218 [10:24<00:00,  2.86s/it]\n"
     ]
    }
   ],
   "source": [
    "# Fetch repository data -- 391\n",
    "list_repo_data = []\n",
    "for ul in tqdm(all_users[391:]):\n",
    "    list_repos = get_repos(ul['repos_url'])\n",
    "    for rp in list_repos[:500]:  # Fetch up to 500 most recently pushed repositories\n",
    "        list_repo_data.append({\n",
    "            'login': ul['login'],\n",
    "            'full_name': rp.get('full_name', ''),\n",
    "            'created_at': rp.get('created_at', ''),\n",
    "            'stargazers_count': rp.get('stargazers_count', 0),\n",
    "            'watchers_count': rp.get('watchers_count', 0),\n",
    "            'language': rp.get('language', ''),\n",
    "            'has_projects': rp.get('has_projects', False),\n",
    "            'has_wiki': rp.get('has_wiki', False),\n",
    "            'license_name': rp['license'].get('key', '') if rp['license'] else \"\"\n",
    "        })"
   ]
  },
  {
   "cell_type": "code",
   "execution_count": 110,
   "metadata": {},
   "outputs": [],
   "source": [
    "# store repo data in data frame\n",
    "# df_repos = pd.DataFrame(list_repo_data)\n",
    "# write as csv\n",
    "df_repos.to_csv('df_repos1.csv',index=False)\n"
   ]
  },
  {
   "cell_type": "code",
   "execution_count": 111,
   "metadata": {},
   "outputs": [],
   "source": [
    "# df_repos1 = pd.DataFrame(list_repo_data)\n",
    "df_repos1.to_csv('df_repos2.csv',index=False)"
   ]
  },
  {
   "cell_type": "code",
   "execution_count": 113,
   "metadata": {},
   "outputs": [],
   "source": [
    "df_repos3 = pd.DataFrame(list_repo_data)\n",
    "df_repos3.to_csv('df_repos3.csv',index=False)"
   ]
  },
  {
   "cell_type": "markdown",
   "metadata": {},
   "source": [
    "Question answers for project 1"
   ]
  },
  {
   "cell_type": "code",
   "execution_count": 138,
   "metadata": {},
   "outputs": [],
   "source": [
    "# upload the dataframes\n",
    "import pandas as pd\n",
    "\n",
    "df_users = pd.read_csv(\"users.csv\")\n",
    "# Convert 'created_at' column to datetime \n",
    "df_users['created_at'] = pd.to_datetime(df_users['created_at'])\n",
    "\n",
    "\n",
    "df_repositories = pd.read_csv(\"repositories.csv\")"
   ]
  },
  {
   "cell_type": "code",
   "execution_count": 149,
   "metadata": {},
   "outputs": [],
   "source": []
  },
  {
   "cell_type": "code",
   "execution_count": null,
   "metadata": {},
   "outputs": [],
   "source": [
    "1. Who are the top 5 users in Berlin with the highest number of followers? List their login in order, comma-separated.\n",
    "Users"
   ]
  },
  {
   "cell_type": "code",
   "execution_count": 141,
   "metadata": {},
   "outputs": [],
   "source": [
    "# Sort users by number of followers in descending order \n",
    "sorted_users = df_users.sort_values(by='followers', ascending=False)\n",
    "\n",
    "# Get the top 5 users \n",
    "top_5_users = sorted_users.head(5)\n",
    "\n",
    "# List their logins in order, comma-separated \n",
    "top_5_logins = list(top_5_users['login'])\n",
    "print(top_5_logins)"
   ]
  },
  {
   "cell_type": "markdown",
   "metadata": {},
   "source": [
    "2. Who are the 5 earliest registered GitHub users in Berlin? List their login in ascending order of created_at, comma-separated."
   ]
  },
  {
   "cell_type": "code",
   "execution_count": 155,
   "metadata": {},
   "outputs": [
    {
     "name": "stdout",
     "output_type": "stream",
     "text": [
      "schacon,adamwiggins,myobie,lstoll,znarf\n"
     ]
    }
   ],
   "source": [
    "sorted_users = df_users.sort_values(by='created_at',ascending=True)\n",
    "earl_user = sorted_users.head(5)\n",
    "earliest_logins = ','.join(earl_user['login'].tolist())\n",
    "print(earliest_logins)"
   ]
  },
  {
   "cell_type": "markdown",
   "metadata": {},
   "source": [
    "3. What are the 3 most popular license among these users? Ignore missing licenses. List the license_name in order, comma-separated."
   ]
  },
  {
   "cell_type": "code",
   "execution_count": 170,
   "metadata": {},
   "outputs": [
    {
     "data": {
      "text/plain": [
       "'mit,apache-2.0,other'"
      ]
     },
     "execution_count": 170,
     "metadata": {},
     "output_type": "execute_result"
    }
   ],
   "source": [
    "# filter missing licenses\n",
    "df_all_lic = df_repositories[df_repositories['license_name'].notnull()]\n",
    "# df_all_lic.shape\n",
    "','.join(df_repositories['license_name'].value_counts().head(3).index.tolist())"
   ]
  },
  {
   "cell_type": "markdown",
   "metadata": {},
   "source": [
    "4. Which company do the majority of these developers work at?"
   ]
  },
  {
   "cell_type": "code",
   "execution_count": null,
   "metadata": {},
   "outputs": [],
   "source": [
    "df_all_com = df_users[df_users['company'].notna()]\n",
    "df_all_com['company'].value_counts()\n"
   ]
  },
  {
   "cell_type": "markdown",
   "metadata": {},
   "source": [
    "5. Which programming language is most popular among these users?"
   ]
  },
  {
   "cell_type": "code",
   "execution_count": null,
   "metadata": {},
   "outputs": [],
   "source": [
    "# frequency of languages from repository table\n",
    "df_repositories['language'].value_counts()"
   ]
  },
  {
   "cell_type": "markdown",
   "metadata": {},
   "source": [
    "6. Which programming language is the second most popular among users who joined after 2020?"
   ]
  },
  {
   "cell_type": "code",
   "execution_count": null,
   "metadata": {},
   "outputs": [],
   "source": []
  },
  {
   "cell_type": "markdown",
   "metadata": {},
   "source": [
    "7. Which language has the highest average number of stars per repository?"
   ]
  },
  {
   "cell_type": "code",
   "execution_count": 178,
   "metadata": {},
   "outputs": [],
   "source": [
    "df_new = df_repositories.groupby(['language']).agg({'login': 'count', 'stargazers_count': 'sum'})"
   ]
  },
  {
   "cell_type": "code",
   "execution_count": 180,
   "metadata": {},
   "outputs": [],
   "source": [
    "df_new['stra_per_rep'] = df_new['stargazers_count']/df_new['login']\n",
    "df_new.sort_values(by='stra_per_rep', ascending=False).head(1)"
   ]
  },
  {
   "cell_type": "code",
   "execution_count": 183,
   "metadata": {},
   "outputs": [
    {
     "data": {
      "text/html": [
       "<div>\n",
       "<style scoped>\n",
       "    .dataframe tbody tr th:only-of-type {\n",
       "        vertical-align: middle;\n",
       "    }\n",
       "\n",
       "    .dataframe tbody tr th {\n",
       "        vertical-align: top;\n",
       "    }\n",
       "\n",
       "    .dataframe thead th {\n",
       "        text-align: right;\n",
       "    }\n",
       "</style>\n",
       "<table border=\"1\" class=\"dataframe\">\n",
       "  <thead>\n",
       "    <tr style=\"text-align: right;\">\n",
       "      <th></th>\n",
       "      <th>login</th>\n",
       "      <th>stargazers_count</th>\n",
       "      <th>stra_per_rep</th>\n",
       "    </tr>\n",
       "    <tr>\n",
       "      <th>language</th>\n",
       "      <th></th>\n",
       "      <th></th>\n",
       "      <th></th>\n",
       "    </tr>\n",
       "  </thead>\n",
       "  <tbody>\n",
       "    <tr>\n",
       "      <th>Fluent</th>\n",
       "      <td>1</td>\n",
       "      <td>12952</td>\n",
       "      <td>12952.0</td>\n",
       "    </tr>\n",
       "  </tbody>\n",
       "</table>\n",
       "</div>"
      ],
      "text/plain": [
       "          login  stargazers_count  stra_per_rep\n",
       "language                                       \n",
       "Fluent        1             12952       12952.0"
      ]
     },
     "execution_count": 183,
     "metadata": {},
     "output_type": "execute_result"
    }
   ],
   "source": []
  }
 ],
 "metadata": {
  "kernelspec": {
   "display_name": "codex",
   "language": "python",
   "name": "python3"
  },
  "language_info": {
   "codemirror_mode": {
    "name": "ipython",
    "version": 3
   },
   "file_extension": ".py",
   "mimetype": "text/x-python",
   "name": "python",
   "nbconvert_exporter": "python",
   "pygments_lexer": "ipython3",
   "version": "3.11.4"
  }
 },
 "nbformat": 4,
 "nbformat_minor": 2
}
